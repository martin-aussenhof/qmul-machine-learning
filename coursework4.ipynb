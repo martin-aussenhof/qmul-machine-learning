{
 "cells": [
  {
   "cell_type": "markdown",
   "metadata": {},
   "source": [
    "# Coursework 4"
   ]
  },
  {
   "cell_type": "markdown",
   "metadata": {},
   "source": [
    "## Task 1"
   ]
  },
  {
   "cell_type": "code",
   "execution_count": 79,
   "metadata": {},
   "outputs": [
    {
     "name": "stdout",
     "output_type": "stream",
     "text": [
      "[[1 1 1]\n",
      " [1 2 4]\n",
      " [1 3 9]]\n"
     ]
    }
   ],
   "source": [
    "import numpy as np\n",
    "\n",
    "\n",
    "def compute_polynomial_basis(vector, degree):\n",
    "    output = list()\n",
    "    for scalar in vector:\n",
    "        row = list()\n",
    "        for level in range(degree+1):\n",
    "            row.append(scalar**level)\n",
    "        output.append(row)\n",
    "    output = (np.matrix(output))\n",
    "#     print(output)\n",
    "    return output\n",
    "\n",
    "\n",
    "if __name__ == \"__main__\":\n",
    "    input_ = np.array([1,2,3])\n",
    "    degree = 2\n",
    "    print(compute_polynomial_basis(input_, degree))"
   ]
  },
  {
   "cell_type": "markdown",
   "metadata": {},
   "source": [
    "## Task 2"
   ]
  },
  {
   "cell_type": "code",
   "execution_count": 44,
   "metadata": {},
   "outputs": [
    {
     "name": "stdout",
     "output_type": "stream",
     "text": [
      "[0.         0.11111111 0.22222222 0.33333333 0.44444444 0.55555556\n",
      " 0.66666667 0.77777778 0.88888889 1.        ]\n"
     ]
    }
   ],
   "source": [
    "def generate_equidistant_input(s):\n",
    "    X = np.linspace(0, 1, num=s)\n",
    "    return X\n",
    "\n",
    "\n",
    "if __name__ == \"__main__\":\n",
    "    print(generate_equidistant_input(10))"
   ]
  },
  {
   "cell_type": "markdown",
   "metadata": {},
   "source": [
    "## Task 3"
   ]
  },
  {
   "cell_type": "code",
   "execution_count": 47,
   "metadata": {},
   "outputs": [
    {
     "name": "stdout",
     "output_type": "stream",
     "text": [
      "[[1.         0.        ]\n",
      " [1.         0.11111111]\n",
      " [1.         0.22222222]\n",
      " [1.         0.33333333]\n",
      " [1.         0.44444444]\n",
      " [1.         0.55555556]\n",
      " [1.         0.66666667]\n",
      " [1.         0.77777778]\n",
      " [1.         0.88888889]\n",
      " [1.         1.        ]]\n",
      "[[1.         0.         0.         0.        ]\n",
      " [1.         0.11111111 0.01234568 0.00137174]\n",
      " [1.         0.22222222 0.04938272 0.01097394]\n",
      " [1.         0.33333333 0.11111111 0.03703704]\n",
      " [1.         0.44444444 0.19753086 0.0877915 ]\n",
      " [1.         0.55555556 0.30864198 0.17146776]\n",
      " [1.         0.66666667 0.44444444 0.2962963 ]\n",
      " [1.         0.77777778 0.60493827 0.47050754]\n",
      " [1.         0.88888889 0.79012346 0.70233196]\n",
      " [1.         1.         1.         1.        ]]\n"
     ]
    }
   ],
   "source": [
    "input_vector = generate_equidistant_input(10)\n",
    "output_degree_one = compute_polynomial_basis(input_vector, 1)\n",
    "output_degree_three = compute_polynomial_basis(input_vector, 3)"
   ]
  },
  {
   "cell_type": "markdown",
   "metadata": {},
   "source": [
    "## Task 4\n",
    "Apply your matrices to the weights \n",
    "w1 = 2/5 −4/5\n",
    "and w3 = 0 32/3 −32 64/3\n",
    "from Coursework 2 and store your results in arrays y1 and y3. Visualise your results with tools from the Matplotlib-library\n"
   ]
  },
  {
   "cell_type": "markdown",
   "metadata": {},
   "source": [
    "### Manual Solution"
   ]
  },
  {
   "cell_type": "code",
   "execution_count": 111,
   "metadata": {},
   "outputs": [
    {
     "name": "stdout",
     "output_type": "stream",
     "text": [
      "[[ 0.4         0.31111111  0.22222222  0.13333333  0.04444444 -0.04444444\n",
      "  -0.13333333 -0.22222222 -0.31111111 -0.4       ]]\n",
      "[[ 0.00000000e+00  8.19387289e-01  1.02423411e+00  7.90123457e-01\n",
      "   2.92638317e-01 -2.92638317e-01 -7.90123457e-01 -1.02423411e+00\n",
      "  -8.19387289e-01 -3.55271368e-15]]\n"
     ]
    }
   ],
   "source": [
    "def apply_weights_to_matrice(matrix, weights):\n",
    "    Xw = list()\n",
    "    number_of_rows = matrix.shape[0]\n",
    "    number_of_cols = matrix.shape[1]\n",
    "    for row in range(number_of_rows):\n",
    "        current_row = list()\n",
    "        for col in range(number_of_cols):\n",
    "            current_row.append(matrix.item(row, col) * weights[col])\n",
    "        Xw.append(sum(current_row))\n",
    "    return np.matrix(Xw)\n",
    "    \n",
    "\n",
    "\n",
    "if __name__ == \"__main__\":\n",
    "    output_degree_one = compute_polynomial_basis(input_vector, 1)\n",
    "    w1 = [2/5, -4/5]\n",
    "    print( apply_weights_to_matrice(output_degree_one, w1))\n",
    "    \n",
    "    \n",
    "    \n",
    "    output_degree_three = compute_polynomial_basis(input_vector, 3)\n",
    "    w3 = [0, 32/3, -32, 64/3]\n",
    "    print( apply_weights_to_matrice(output_degree_three, w3))"
   ]
  },
  {
   "cell_type": "markdown",
   "metadata": {},
   "source": [
    "### Solution with Numpy Function"
   ]
  },
  {
   "cell_type": "code",
   "execution_count": 110,
   "metadata": {},
   "outputs": [
    {
     "name": "stdout",
     "output_type": "stream",
     "text": [
      "[[ 0.4         0.31111111  0.22222222  0.13333333  0.04444444 -0.04444444\n",
      "  -0.13333333 -0.22222222 -0.31111111 -0.4       ]]\n",
      "[[ 0.00000000e+00  8.19387289e-01  1.02423411e+00  7.90123457e-01\n",
      "   2.92638317e-01 -2.92638317e-01 -7.90123457e-01 -1.02423411e+00\n",
      "  -8.19387289e-01 -3.55271368e-15]]\n"
     ]
    }
   ],
   "source": [
    "def apply_weights_to_matrice(matrix, weights):\n",
    "    Xw = np.dot(matrix, weights)\n",
    "    return Xw\n",
    "\n",
    "\n",
    "if __name__ == \"__main__\":\n",
    "    output_degree_one = compute_polynomial_basis(input_vector, 1)\n",
    "    w1 = ((2/5, -4/5))\n",
    "    print(apply_weights_to_matrice(output_degree_one, w1))\n",
    "\n",
    "    output_degree_three = compute_polynomial_basis(input_vector, 3)\n",
    "    w3 = np.array((0, 32/3, -32, 64/3))\n",
    "    print( apply_weights_to_matrice(output_degree_three, w3))"
   ]
  },
  {
   "cell_type": "markdown",
   "metadata": {},
   "source": [
    "## Task 5\n",
    "Write a function *regression* that takes two arguments *data matrix* and *data samples*, which computes and returns the solution $\\hat{w}$ of the normal equation $Φ(X)^TΦ(X)\\hat{w} = Φ(X)^Ty$.\n",
    "\n",
    "Here $Φ(X)$ is the mathematical representation of data matrix and $y$ is the mathematical representation of data samples. \n",
    "\n",
    "Hint: make us of NumPy’s function linalg.solv"
   ]
  },
  {
   "cell_type": "code",
   "execution_count": 155,
   "metadata": {},
   "outputs": [
    {
     "name": "stdout",
     "output_type": "stream",
     "text": [
      "[2. 0.]\n"
     ]
    }
   ],
   "source": [
    "def regression(data_matrix, data_samples):\n",
    "    data_matrix_tranposed = data_matrix.transpose()\n",
    "    dot_product_left = np.dot(data_matrix_tranposed, data_matrix)\n",
    "    dot_product_right = np.dot(data_matrix_tranposed, data_samples)\n",
    "    \n",
    "    # squeeze matrix into a numpy array as linalg.solve requires this format.\n",
    "    right_side = np.squeeze(np.asarray(dot_product_right))\n",
    "    return np.linalg.solve(dot_product_left, right_side)\n",
    "\n",
    "    \n",
    "if __name__ == \"__main__\":  \n",
    "    data_samples = np.array([2,2,2])\n",
    "    data_matrix = np.matrix([[1,-1],[1, 0],[1,-1]])\n",
    "    print(regression(data_matrix, data_samples))"
   ]
  },
  {
   "cell_type": "code",
   "execution_count": null,
   "metadata": {
    "collapsed": true
   },
   "outputs": [],
   "source": []
  }
 ],
 "metadata": {
  "kernelspec": {
   "display_name": "Python 3",
   "language": "python",
   "name": "python3"
  },
  "language_info": {
   "codemirror_mode": {
    "name": "ipython",
    "version": 3
   },
   "file_extension": ".py",
   "mimetype": "text/x-python",
   "name": "python",
   "nbconvert_exporter": "python",
   "pygments_lexer": "ipython3",
   "version": "3.7.4"
  }
 },
 "nbformat": 4,
 "nbformat_minor": 2
}
